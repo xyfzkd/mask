{
 "cells": [
  {
   "cell_type": "markdown",
   "metadata": {},
   "source": [
    "# environment "
   ]
  },
  {
   "cell_type": "code",
   "execution_count": 1,
   "metadata": {
    "ExecuteTime": {
     "end_time": "2020-02-09T07:17:38.143333Z",
     "start_time": "2020-02-09T07:17:37.684308Z"
    }
   },
   "outputs": [],
   "source": [
    "import sys\n",
    "# import urllib\n",
    "# from urllib.request import Request, urlopen\n",
    "import string\n",
    "import re\n",
    "import os\n",
    "import time\n",
    "import threading\n",
    "import requests\n",
    "import base64\n",
    "import json\n",
    "from selenium import webdriver\n",
    "from selenium.webdriver.support.ui import Select, WebDriverWait as UI_WebDriverWait\n",
    "from selenium.webdriver.support.wait import WebDriverWait\n",
    "from selenium.common.exceptions import TimeoutException\n",
    "from selenium.webdriver.common.by import By\n",
    "import selenium.webdriver.support.expected_conditions as EC\n",
    "# import selenium.webdriver.support.ui as ui\n",
    "\n",
    "from PIL import Image,ImageEnhance,ImageFilter\n"
   ]
  },
  {
   "cell_type": "markdown",
   "metadata": {},
   "source": [
    "# open website\n",
    "modify `home_url` because it's often changable"
   ]
  },
  {
   "cell_type": "code",
   "execution_count": 2,
   "metadata": {
    "ExecuteTime": {
     "end_time": "2020-02-09T07:20:03.973937Z",
     "start_time": "2020-02-09T07:20:03.968980Z"
    }
   },
   "outputs": [],
   "source": [
    "dir_ = os.getcwd()\n",
    "webdriverDir = 'driver/chrome/chromedriver-mac64' # 使用浏览器驱动\n",
    "home_url = 'http://220.191.224.132:8090/yypt/search/portlet.xhtml'\n",
    "#captcha_url = 'https://appleid.apple.com/captcha' # 获取验证码"
   ]
  },
  {
   "cell_type": "code",
   "execution_count": 5,
   "metadata": {
    "ExecuteTime": {
     "end_time": "2020-02-09T07:21:05.226215Z",
     "start_time": "2020-02-09T07:21:02.431176Z"
    }
   },
   "outputs": [],
   "source": [
    "browser = webdriver.Chrome(executable_path = webdriverDir)\n",
    "\n",
    "browser.get(home_url)\n",
    "\n",
    "nowhandle = browser.current_window_handle # 得到当前窗口句柄\n",
    "\n",
    "# 获取网页cookie\n",
    "cookie = [item[\"name\"] + \"=\" + item[\"value\"] for item in browser.get_cookies()]\n",
    "cookiestr = ';'.join(item for item in cookie)"
   ]
  },
  {
   "cell_type": "markdown",
   "metadata": {},
   "source": [
    "# input\n",
    "```\n",
    "USERNAME = \"**\"\n",
    "USERIC = \"**\"\n",
    "PHONE = \"**\"\n",
    "#Social security card\n",
    "SSC = \"**\"\n",
    "EARE = \"上虞区\"\n",
    "# recieving address\n",
    "RA = \"**\"\n",
    "```"
   ]
  },
  {
   "cell_type": "code",
   "execution_count": null,
   "metadata": {
    "ExecuteTime": {
     "end_time": "2020-02-10T06:06:53.034906Z",
     "start_time": "2020-02-10T06:06:45.328Z"
    }
   },
   "outputs": [],
   "source": [
    "import config"
   ]
  },
  {
   "cell_type": "code",
   "execution_count": 27,
   "metadata": {
    "ExecuteTime": {
     "end_time": "2020-02-10T05:02:14.937430Z",
     "start_time": "2020-02-10T05:02:14.848962Z"
    }
   },
   "outputs": [],
   "source": [
    "# 收件人姓名\n",
    "browser.find_element_by_xpath('//*[@id=\"main-container\"]/div/div/div/div/div/div[1]/div/div/div[2]/div[1]/form/div[1]/div[1]/input').send_keys(config.USERNAME)\n",
    "# 收件人身份证号\n",
    "browser.find_element_by_xpath('//*[@id=\"main-container\"]/div/div/div/div/div/div[1]/div/div/div[2]/div[1]/form/div[1]/div[2]/input').send_keys(config.USERIC)\n",
    "# 收件人联系电话\n",
    "browser.find_element_by_xpath('//*[@id=\"main-container\"]/div/div/div/div/div/div[1]/div/div/div[2]/div[1]/form/div[2]/div[1]/input').send_keys(config.PHONE)\n",
    "# 收件人医保卡号\n",
    "browser.find_element_by_xpath('//*[@id=\"main-container\"]/div/div/div/div/div/div[1]/div/div/div[2]/div[1]/form/div[2]/div[2]/input').send_keys(config.SSC)\n",
    "# 收货地址\n",
    "browser.find_element_by_xpath('//*[@id=\"main-container\"]/div/div/div/div/div/div[1]/div/div/div[2]/div[1]/form/div[4]/div/input').send_keys(config.RA)\n",
    "# 配送区域\n",
    "Select(browser.find_element_by_xpath('//*[@id=\"main-container\"]/div/div/div/div/div/div[1]/div/div/div[2]/div[1]/form/div[3]/div[1]/select')).select_by_index(3)"
   ]
  },
  {
   "cell_type": "markdown",
   "metadata": {
    "ExecuteTime": {
     "end_time": "2020-02-09T07:30:01.943270Z",
     "start_time": "2020-02-09T07:30:01.923994Z"
    }
   },
   "source": [
    "# captcha"
   ]
  },
  {
   "cell_type": "markdown",
   "metadata": {},
   "source": [
    "## save"
   ]
  },
  {
   "cell_type": "code",
   "execution_count": 22,
   "metadata": {
    "ExecuteTime": {
     "end_time": "2020-02-09T07:30:26.714336Z",
     "start_time": "2020-02-09T07:30:26.711740Z"
    }
   },
   "outputs": [],
   "source": [
    "ss = browser.find_element_by_css_selector(\"#random\").get_attribute('src')\n",
    "imgdata = ss.replace('data:image/jpg;base64,', '')\n",
    "imgdata = base64.b64decode(imgdata)\n",
    "filename = 'code/%s.jpeg' %str(int(time.time()))\n",
    "file=open(filename,'wb')\n",
    "file.write(imgdata)\n",
    "file.close()"
   ]
  },
  {
   "cell_type": "code",
   "execution_count": 26,
   "metadata": {
    "ExecuteTime": {
     "end_time": "2020-02-10T05:01:14.125737Z",
     "start_time": "2020-02-10T05:01:14.066617Z"
    }
   },
   "outputs": [],
   "source": [
    "try:\n",
    "    imgdata = Image.open(filename)\n",
    "    imgdata.show() # 预览图\n",
    "    imgdata.close()\n",
    "except:\n",
    "    pass"
   ]
  },
  {
   "cell_type": "markdown",
   "metadata": {},
   "source": [
    "## input"
   ]
  },
  {
   "cell_type": "code",
   "execution_count": 28,
   "metadata": {
    "ExecuteTime": {
     "end_time": "2020-02-10T05:04:08.488779Z",
     "start_time": "2020-02-10T05:04:04.456116Z"
    }
   },
   "outputs": [
    {
     "name": "stdout",
     "output_type": "stream",
     "text": [
      "请输入图片验证码 :1584\n"
     ]
    }
   ],
   "source": [
    "Code = input(\"请输入图片验证码 :\")\n",
    "browser.find_element_by_xpath('//*[@id=\"main-container\"]/div/div/div/div/div/div[1]/div/div/div[2]/div[1]/form/div[5]/div/div/input').send_keys(Code)"
   ]
  },
  {
   "cell_type": "markdown",
   "metadata": {
    "ExecuteTime": {
     "end_time": "2020-02-10T06:11:58.413290Z",
     "start_time": "2020-02-10T06:11:58.410394Z"
    }
   },
   "source": [
    "# last step click"
   ]
  },
  {
   "cell_type": "code",
   "execution_count": null,
   "metadata": {},
   "outputs": [],
   "source": [
    "import datetime"
   ]
  },
  {
   "cell_type": "code",
   "execution_count": 31,
   "metadata": {
    "ExecuteTime": {
     "end_time": "2020-02-10T05:08:59.337108Z",
     "start_time": "2020-02-10T05:08:58.282088Z"
    }
   },
   "outputs": [],
   "source": [
    "def click():\n",
    "    browser.find_element_by_xpath('//*[@id=\"main-container\"]/div/div/div/div/div/div[1]/div/div/div[2]/div[2]/button').click()"
   ]
  },
  {
   "cell_type": "code",
   "execution_count": 58,
   "metadata": {
    "ExecuteTime": {
     "end_time": "2020-02-10T06:06:53.030704Z",
     "start_time": "2020-02-10T05:30:52.150041Z"
    }
   },
   "outputs": [
    {
     "name": "stdout",
     "output_type": "stream",
     "text": [
      "2020-02-10 13:31:00.002995\n",
      "123\n"
     ]
    },
    {
     "ename": "KeyboardInterrupt",
     "evalue": "",
     "output_type": "error",
     "traceback": [
      "\u001b[0;31m---------------------------------------------------------------------------\u001b[0m",
      "\u001b[0;31mKeyboardInterrupt\u001b[0m                         Traceback (most recent call last)",
      "\u001b[0;32m<ipython-input-58-3a20061b5b34>\u001b[0m in \u001b[0;36m<module>\u001b[0;34m\u001b[0m\n\u001b[1;32m      5\u001b[0m \u001b[0;32mwhile\u001b[0m \u001b[0;32mTrue\u001b[0m\u001b[0;34m:\u001b[0m\u001b[0;34m\u001b[0m\u001b[0;34m\u001b[0m\u001b[0m\n\u001b[1;32m      6\u001b[0m     \u001b[0mschedule\u001b[0m\u001b[0;34m.\u001b[0m\u001b[0mrun_pending\u001b[0m\u001b[0;34m(\u001b[0m\u001b[0;34m)\u001b[0m\u001b[0;34m\u001b[0m\u001b[0;34m\u001b[0m\u001b[0m\n\u001b[0;32m----> 7\u001b[0;31m     \u001b[0mtime\u001b[0m\u001b[0;34m.\u001b[0m\u001b[0msleep\u001b[0m\u001b[0;34m(\u001b[0m\u001b[0;36m0.01\u001b[0m\u001b[0;34m)\u001b[0m\u001b[0;34m\u001b[0m\u001b[0;34m\u001b[0m\u001b[0m\n\u001b[0m",
      "\u001b[0;31mKeyboardInterrupt\u001b[0m: "
     ]
    }
   ],
   "source": [
    "# modify the time and must test\n",
    "schedule.every().day.at(\"13:31:00\").do(click)\n",
    "while True:\n",
    "    schedule.run_pending()\n",
    "    time.sleep(0.01)"
   ]
  }
 ],
 "metadata": {
  "kernelspec": {
   "display_name": "Python [conda env:appleid]",
   "language": "python",
   "name": "conda-env-appleid-py"
  },
  "language_info": {
   "codemirror_mode": {
    "name": "ipython",
    "version": 3
   },
   "file_extension": ".py",
   "mimetype": "text/x-python",
   "name": "python",
   "nbconvert_exporter": "python",
   "pygments_lexer": "ipython3",
   "version": "3.7.6"
  },
  "toc": {
   "base_numbering": 1,
   "nav_menu": {},
   "number_sections": true,
   "sideBar": true,
   "skip_h1_title": false,
   "title_cell": "Table of Contents",
   "title_sidebar": "Contents",
   "toc_cell": false,
   "toc_position": {},
   "toc_section_display": true,
   "toc_window_display": false
  }
 },
 "nbformat": 4,
 "nbformat_minor": 2
}
